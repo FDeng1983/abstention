{
 "cells": [
  {
   "cell_type": "code",
   "execution_count": null,
   "metadata": {
    "collapsed": true,
    "scrolled": true
   },
   "outputs": [],
   "source": [
    "import numpy as np\n",
    "from __future__ import division, print_function"
   ]
  },
  {
   "cell_type": "markdown",
   "metadata": {},
   "source": [
    "### Get validation set predictions and labels\n",
    "\n",
    "You can use the \"Generate Simulated Predictions\" notebook in this folder to produce the data used in this example notebook.\n",
    "\n",
    "If using a deep learning model to make predictions, provide the predictions before the final nonlinearity"
   ]
  },
  {
   "cell_type": "code",
   "execution_count": 30,
   "metadata": {
    "collapsed": false,
    "scrolled": true
   },
   "outputs": [],
   "source": [
    "valid_preds_and_labels_file = \"valid_preds_and_labels.txt\"\n",
    "\n",
    "valid_preds = []\n",
    "valid_labels = []\n",
    "for a_line in open(valid_preds_and_labels_file):\n",
    "    a_line = a_line.rstrip()\n",
    "    valid_pred, valid_label = a_line.split(\"\\t\")\n",
    "    valid_preds.append(float(valid_pred))\n",
    "    valid_labels.append(int(valid_label))\n",
    "valid_preds = np.array(valid_preds)\n",
    "valid_labels = np.array(valid_labels)"
   ]
  },
  {
   "cell_type": "code",
   "execution_count": 31,
   "metadata": {
    "collapsed": false,
    "scrolled": true
   },
   "outputs": [
    {
     "data": {
      "image/png": "[encoded data removed]",
      "text/plain": [
       "<Figure size 600x400 with 1 Axes>"
      ]
     },
     "metadata": {},
     "output_type": "display_data"
    }
   ],
   "source": [
    "%matplotlib inline\n",
    "from matplotlib import pyplot as plt\n",
    "plt.hist(valid_preds[valid_labels==0], alpha=0.8, bins=100)\n",
    "plt.hist(valid_preds[valid_labels==1], alpha=0.8, bins=100)\n",
    "plt.show()"
   ]
  },
  {
   "cell_type": "markdown",
   "metadata": {},
   "source": [
    "### Perform calibration"
   ]
  },
  {
   "cell_type": "code",
   "execution_count": 32,
   "metadata": {
    "collapsed": false,
    "scrolled": true
   },
   "outputs": [
    {
     "name": "stdout",
     "output_type": "stream",
     "text": [
      "Platt scaling coef: 1.9539529400537776 ; intercept: -2.1330916580217214\n"
     ]
    }
   ],
   "source": [
    "import abstention\n",
    "\n",
    "#Isotonic Regression is more flexible than Platt scaling\n",
    "#But note that it can sometimes overfit. For deep learning\n",
    "#models and binary classification, we have found Platt\n",
    "#Scaling to generally work better\n",
    "\n",
    "ir_calibrator = abstention.calibration.IsotonicRegression()(\n",
    "                #the argument is named \"preacts\" because\n",
    "                #in a deep learning model, you should provide\n",
    "                #the predictions before the final nonlinearity\n",
    "                valid_preacts = valid_preds,\n",
    "                valid_labels = valid_labels)\n",
    "platt_calibrator = abstention.calibration.PlattScaling()(\n",
    "                #the argument is named \"preacts\" because\n",
    "                #in a deep learning model, you should provide\n",
    "                #the predictions before the final nonlinearity\n",
    "                valid_preacts = valid_preds,\n",
    "                valid_labels = valid_labels)"
   ]
  },
  {
   "cell_type": "markdown",
   "metadata": {},
   "source": [
    "Visualize the results of the calibration"
   ]
  },
  {
   "cell_type": "code",
   "execution_count": 33,
   "metadata": {
    "collapsed": false,
    "scrolled": false
   },
   "outputs": [
    {
     "name": "stdout",
     "output_type": "stream",
     "text": [
      "Plot the calibration functions\n"
     ]
    },
    {
     "data": {
      "image/png": "[encoded data removed]",
      "text/plain": [
       "<Figure size 600x400 with 1 Axes>"
      ]
     },
     "metadata": {},
     "output_type": "display_data"
    },
    {
     "name": "stdout",
     "output_type": "stream",
     "text": [
      "Plot the quality of the calibration - be aware of overfitting!\n"
     ]
    },
    {
     "data": {
      "image/png": "[encoded data removed]",
      "text/plain": [
       "<Figure size 600x400 with 1 Axes>"
      ]
     },
     "metadata": {},
     "output_type": "display_data"
    }
   ],
   "source": [
    "print(\"Plot the calibration functions\")\n",
    "ir_calibrated_valid_preds = ir_calibrator(valid_preds)\n",
    "platt_calibrated_valid_preds = platt_calibrator(valid_preds)\n",
    "plt.scatter(valid_preds, ir_calibrated_valid_preds, color='blue')\n",
    "plt.scatter(valid_preds, platt_calibrated_valid_preds, color='red')\n",
    "plt.show()\n",
    "\n",
    "print(\"Plot the quality of the calibration - be aware of overfitting!\")\n",
    "import sklearn.calibration\n",
    "\n",
    "plt.plot([0.0, 1.0], [0.0, 1.0], color='black')\n",
    "plt.plot(*sklearn.calibration.calibration_curve(y_true=valid_labels, y_prob=ir_calibrated_valid_preds), color='blue')\n",
    "plt.plot(*sklearn.calibration.calibration_curve(y_true=valid_labels, y_prob=platt_calibrated_valid_preds), color='red')\n",
    "plt.show()"
   ]
  },
  {
   "cell_type": "markdown",
   "metadata": {},
   "source": [
    "Platt scaling and IR produced similar results. Since there's a good chance IR overfit, we will use Platt."
   ]
  },
  {
   "cell_type": "markdown",
   "metadata": {},
   "source": [
    "### Get abstention priorities for test predictions"
   ]
  },
  {
   "cell_type": "code",
   "execution_count": 34,
   "metadata": {
    "collapsed": false
   },
   "outputs": [],
   "source": [
    "test_preds = np.array([float(x.rstrip()) for x in open(\"test_preds.txt\")])\n",
    "calibrated_test_preds = platt_calibrator(test_preds)"
   ]
  },
  {
   "cell_type": "markdown",
   "metadata": {},
   "source": [
    "If valid_est_metric and data_est_metric are reasonably close, that's an indication that the calibration on the test set is good. valid_est_metric is the performance computed on the validation set; data_est_metric is the performance computed directly from the test-set probabilities."
   ]
  },
  {
   "cell_type": "code",
   "execution_count": 41,
   "metadata": {
    "collapsed": false
   },
   "outputs": [
    {
     "name": "stdout",
     "output_type": "stream",
     "text": [
      "valid est metric 0.6591974242327812\n",
      "data est metric 0.6544519424645587\n",
      "valid est metric 0.9202534975110312\n",
      "data est metric 0.9166502240893657\n"
     ]
    }
   ],
   "source": [
    "abstainer_func_auprc = abstention.abstention.MarginalDeltaAuPrc()(valid_labels=valid_labels,\n",
    "                                                                  valid_posterior=platt_calibrated_valid_preds)\n",
    "abstention_priorities_auprc = abstainer_func_auprc(posterior_probs=calibrated_test_preds)\n",
    "\n",
    "abstainer_func_auroc = abstention.abstention.MarginalDeltaAuRoc()(valid_labels=valid_labels,\n",
    "                                                                  valid_posterior=platt_calibrated_valid_preds)\n",
    "abstention_priorities_auroc = abstainer_func_auroc(posterior_probs=calibrated_test_preds)"
   ]
  },
  {
   "cell_type": "code",
   "execution_count": 42,
   "metadata": {
    "collapsed": false
   },
   "outputs": [
    {
     "name": "stdout",
     "output_type": "stream",
     "text": [
      "Calibrated probabilities\n"
     ]
    },
    {
     "data": {
      "image/png": "[encoded data removed]",
      "text/plain": [
       "<Figure size 600x400 with 1 Axes>"
      ]
     },
     "metadata": {},
     "output_type": "display_data"
    },
    {
     "name": "stdout",
     "output_type": "stream",
     "text": [
      "AuPRC abstention scores\n"
     ]
    },
    {
     "data": {
      "image/png": "[encoded data removed]",
      "text/plain": [
       "<Figure size 600x400 with 1 Axes>"
      ]
     },
     "metadata": {},
     "output_type": "display_data"
    },
    {
     "name": "stdout",
     "output_type": "stream",
     "text": [
      "AuROC abstention scores\n"
     ]
    },
    {
     "data": {
      "image/png": "[encoded data removed]",
      "text/plain": [
       "<Figure size 600x400 with 1 Axes>"
      ]
     },
     "metadata": {},
     "output_type": "display_data"
    }
   ],
   "source": [
    "print(\"Calibrated probabilities\")\n",
    "plt.scatter(test_preds, calibrated_test_preds)\n",
    "plt.show()\n",
    "print(\"AuPRC abstention scores\")\n",
    "plt.scatter(test_preds, abstention_priorities_auprc*100)\n",
    "plt.show()\n",
    "print(\"AuROC abstention scores\")\n",
    "plt.scatter(test_preds, abstention_priorities_auroc*100)\n",
    "plt.show()\n"
   ]
  },
  {
   "cell_type": "code",
   "execution_count": null,
   "metadata": {
    "collapsed": true
   },
   "outputs": [],
   "source": []
  }
 ],
 "metadata": {
  "kernelspec": {
   "display_name": "Python 2",
   "language": "python",
   "name": "python2"
  },
  "language_info": {
   "codemirror_mode": {
    "name": "ipython",
    "version": 2
   },
   "file_extension": ".py",
   "mimetype": "text/x-python",
   "name": "python",
   "nbconvert_exporter": "python",
   "pygments_lexer": "ipython2",
   "version": "2.7.12"
  }
 },
 "nbformat": 4,
 "nbformat_minor": 0
}
