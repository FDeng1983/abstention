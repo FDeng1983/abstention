{
 "cells": [
  {
   "cell_type": "code",
   "execution_count": 3,
   "metadata": {
    "collapsed": true
   },
   "outputs": [],
   "source": [
    "import numpy as np\n",
    "\n",
    "def generate_dataset(positives_proportion, n=2000, pos_pred_mean=1, pos_pred_std=1,\n",
    "                     neg_pred_mean=0, neg_pred_std=1):\n",
    "    labels = []\n",
    "    predicted_outputs = []\n",
    "    for i in range(n):\n",
    "        \n",
    "        is_positive = np.random.random() < positives_proportion\n",
    "        if (is_positive):\n",
    "            output = pos_pred_std*(np.random.randn(1)[0]) + pos_pred_mean\n",
    "            label = 1\n",
    "        else:\n",
    "            output = neg_pred_std*(np.random.randn(1)[0]) + neg_pred_mean\n",
    "            label = 0\n",
    "        \n",
    "        labels.append(label)\n",
    "        predicted_outputs.append(output)\n",
    "    \n",
    "    return np.array(labels), np.array(predicted_outputs)"
   ]
  },
  {
   "cell_type": "code",
   "execution_count": 26,
   "metadata": {
    "collapsed": false
   },
   "outputs": [],
   "source": [
    "positives_proportion = 0.1\n",
    "pos_pred_mean = 1\n",
    "pos_pred_std = 1\n",
    "neg_pred_mean = -1\n",
    "neg_pred_std = 1\n",
    "\n",
    "valid_labels, valid_preds = generate_dataset(positives_proportion=positives_proportion,\n",
    "                                             n=10000,\n",
    "                                             pos_pred_mean=pos_pred_mean,\n",
    "                                             pos_pred_std=pos_pred_std,\n",
    "                                             neg_pred_mean=neg_pred_mean,\n",
    "                                             neg_pred_std=neg_pred_std)\n"
   ]
  },
  {
   "cell_type": "code",
   "execution_count": 27,
   "metadata": {
    "collapsed": false
   },
   "outputs": [
    {
     "data": {
      "image/png": "[encoded data removed]",
      "text/plain": [
       "<Figure size 600x400 with 1 Axes>"
      ]
     },
     "metadata": {},
     "output_type": "display_data"
    }
   ],
   "source": [
    "%matplotlib inline\n",
    "from matplotlib import pyplot as plt\n",
    "plt.hist(valid_preds[valid_labels==0], alpha=0.8, bins=100)\n",
    "plt.hist(valid_preds[valid_labels==1], alpha=0.8, bins=100)\n",
    "plt.show()"
   ]
  },
  {
   "cell_type": "code",
   "execution_count": 28,
   "metadata": {
    "collapsed": true
   },
   "outputs": [],
   "source": [
    "f = open(\"valid_preds_and_labels.txt\", 'w')\n",
    "for valid_pred, valid_label in zip(valid_preds, valid_labels):\n",
    "    f.write(str(valid_pred)+\"\\t\"+str(valid_label)+\"\\n\")\n",
    "f.close()"
   ]
  },
  {
   "cell_type": "code",
   "execution_count": 29,
   "metadata": {
    "collapsed": true
   },
   "outputs": [],
   "source": [
    "test_labels, test_preds = generate_dataset(positives_proportion=positives_proportion,\n",
    "                                             n=10000,\n",
    "                                             pos_pred_mean=pos_pred_mean,\n",
    "                                             pos_pred_std=pos_pred_std,\n",
    "                                             neg_pred_mean=neg_pred_mean,\n",
    "                                             neg_pred_std=neg_pred_std)"
   ]
  },
  {
   "cell_type": "code",
   "execution_count": 30,
   "metadata": {
    "collapsed": true
   },
   "outputs": [],
   "source": [
    "f = open(\"test_preds.txt\", 'w')\n",
    "for test_pred in test_preds:\n",
    "    f.write(str(test_pred)+\"\\n\")\n",
    "f.close()"
   ]
  },
  {
   "cell_type": "code",
   "execution_count": 22,
   "metadata": {
    "collapsed": false
   },
   "outputs": [
    {
     "name": "stdout",
     "output_type": "stream",
     "text": [
      "Generate simulated predictions.ipynb test_preds_and_labels.txt\r\n",
      "Perform abstention.ipynb             valid_preds_and_labels.txt\r\n",
      "test_preds.txt\r\n"
     ]
    }
   ],
   "source": [
    "!ls"
   ]
  },
  {
   "cell_type": "code",
   "execution_count": null,
   "metadata": {
    "collapsed": true
   },
   "outputs": [],
   "source": []
  }
 ],
 "metadata": {
  "kernelspec": {
   "display_name": "Python 2",
   "language": "python",
   "name": "python2"
  },
  "language_info": {
   "codemirror_mode": {
    "name": "ipython",
    "version": 2
   },
   "file_extension": ".py",
   "mimetype": "text/x-python",
   "name": "python",
   "nbconvert_exporter": "python",
   "pygments_lexer": "ipython2",
   "version": "2.7.12"
  }
 },
 "nbformat": 4,
 "nbformat_minor": 0
}
