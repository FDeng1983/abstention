{
 "cells": [
  {
   "cell_type": "code",
   "execution_count": 1,
   "metadata": {
    "collapsed": false
   },
   "outputs": [
    {
     "name": "stderr",
     "output_type": "stream",
     "text": [
      "Using TensorFlow backend.\n"
     ]
    }
   ],
   "source": [
    "import numpy as np\n",
    "import h5py\n",
    "from keras.datasets import imdb\n",
    "from keras.preprocessing import sequence\n",
    "from keras.preprocessing import sequence\n",
    "from keras.models import Sequential\n",
    "from keras.layers import Dense, Dropout, Activation\n",
    "from keras.layers import Embedding\n",
    "from keras.layers import Convolution1D, GlobalMaxPooling1D\n",
    "import os\n",
    "os.environ[\"CUDA_VISIBLE_DEVICES\"] = \"0,1,2,3\""
   ]
  },
  {
   "cell_type": "code",
   "execution_count": 2,
   "metadata": {
    "collapsed": false
   },
   "outputs": [
    {
     "name": "stdout",
     "output_type": "stream",
     "text": [
      "Loading data...\n",
      "(25000, 'train sequences')\n",
      "(25000, 'test sequences')\n"
     ]
    }
   ],
   "source": [
    "# parameters\n",
    "max_features = 5000\n",
    "maxlen = 400\n",
    "batch_size = 32\n",
    "embedding_dims = 50\n",
    "nb_filter = 250\n",
    "filter_length = 3\n",
    "hidden_dims = 250\n",
    "nb_epoch = 2\n",
    "\n",
    "print('Loading data...')\n",
    "(X_train, y_train), (X_test, y_test) = imdb.load_data(nb_words=max_features)\n",
    "print(len(X_train), 'train sequences')\n",
    "print(len(X_test), 'test sequences')"
   ]
  },
  {
   "cell_type": "code",
   "execution_count": 3,
   "metadata": {
    "collapsed": false
   },
   "outputs": [
    {
     "name": "stdout",
     "output_type": "stream",
     "text": [
      "Pad sequences (samples x time)\n"
     ]
    }
   ],
   "source": [
    "print('Pad sequences (samples x time)')\n",
    "X_train = sequence.pad_sequences(X_train, maxlen=maxlen)\n",
    "X_test = sequence.pad_sequences(X_test, maxlen=maxlen)"
   ]
  },
  {
   "cell_type": "code",
   "execution_count": 4,
   "metadata": {
    "collapsed": false
   },
   "outputs": [
    {
     "name": "stdout",
     "output_type": "stream",
     "text": [
      "('X_train shape:', (20000, 400))\n",
      "('X_valid shape:', (5000, 400))\n",
      "('X_test shape:', (25000, 400))\n"
     ]
    }
   ],
   "source": [
    "X_valid = X_train[20000:]\n",
    "y_valid = y_train[20000:]\n",
    "X_train = X_train[:20000]\n",
    "y_train = y_train[:20000]\n",
    "print('X_train shape:', X_train.shape)\n",
    "print('X_valid shape:', X_valid.shape)\n",
    "print('X_test shape:', X_test.shape)"
   ]
  },
  {
   "cell_type": "code",
   "execution_count": 5,
   "metadata": {
    "collapsed": false
   },
   "outputs": [
    {
     "name": "stdout",
     "output_type": "stream",
     "text": [
      "Build model...\n"
     ]
    },
    {
     "name": "stderr",
     "output_type": "stream",
     "text": [
      "/users/amr1/anaconda2/lib/python2.7/site-packages/tensorflow/python/ops/gradients_impl.py:91: UserWarning: Converting sparse IndexedSlices to a dense Tensor of unknown shape. This may consume a large amount of memory.\n",
      "  \"Converting sparse IndexedSlices to a dense Tensor of unknown shape. \"\n"
     ]
    },
    {
     "name": "stdout",
     "output_type": "stream",
     "text": [
      "Train on 20000 samples, validate on 5000 samples\n",
      "Epoch 1/2\n",
      "20000/20000 [==============================] - 9s - loss: 0.4496 - acc: 0.7733 - val_loss: 0.3125 - val_acc: 0.8738\n",
      "Epoch 2/2\n",
      "20000/20000 [==============================] - 5s - loss: 0.3069 - acc: 0.8705 - val_loss: 0.2796 - val_acc: 0.8890\n"
     ]
    },
    {
     "data": {
      "text/plain": [
       "<keras.callbacks.History at 0x7f58abace950>"
      ]
     },
     "execution_count": 5,
     "metadata": {},
     "output_type": "execute_result"
    }
   ],
   "source": [
    "# Building the model that ships with Keras\n",
    "\n",
    "print('Build model...')\n",
    "model = Sequential()\n",
    "model.add(Embedding(max_features,\n",
    "                    embedding_dims,\n",
    "                    input_length=maxlen,\n",
    "                    dropout=0.2))\n",
    "model.add(Convolution1D(nb_filter=nb_filter,\n",
    "                        filter_length=filter_length,\n",
    "                        border_mode='valid',\n",
    "                        activation='relu',\n",
    "                        subsample_length=1))\n",
    "model.add(GlobalMaxPooling1D())\n",
    "model.add(Dense(hidden_dims))\n",
    "model.add(Dropout(0.2))\n",
    "model.add(Activation('relu'))\n",
    "model.add(Dense(1))\n",
    "model.add(Activation('sigmoid'))\n",
    "\n",
    "model.compile(loss='binary_crossentropy',\n",
    "              optimizer='adam',\n",
    "              metrics=['accuracy'])\n",
    "model.fit(X_train, y_train,\n",
    "          batch_size=batch_size,\n",
    "          nb_epoch=nb_epoch,\n",
    "          validation_data=(X_valid, y_valid))"
   ]
  },
  {
   "cell_type": "code",
   "execution_count": 6,
   "metadata": {
    "collapsed": false
   },
   "outputs": [
    {
     "name": "stdout",
     "output_type": "stream",
     "text": [
      "On validation set\n",
      "Computing deterministic activations\n",
      "Computing nondeterministic activations\n",
      "Done 10 runs\n",
      "Done 20 runs\n",
      "Done 30 runs\n",
      "Done 40 runs\n",
      "Done 50 runs\n",
      "Done 60 runs\n",
      "Done 70 runs\n",
      "Done 80 runs\n",
      "Done 90 runs\n",
      "Done 100 runs\n",
      "On testing set\n",
      "Computing deterministic activations\n",
      "Computing nondeterministic activations\n",
      "Done 10 runs\n",
      "Done 20 runs\n",
      "Done 30 runs\n",
      "Done 40 runs\n",
      "Done 50 runs\n",
      "Done 60 runs\n",
      "Done 70 runs\n",
      "Done 80 runs\n",
      "Done 90 runs\n",
      "Done 100 runs\n"
     ]
    }
   ],
   "source": [
    "import abstention as ab\n",
    "reload(ab.util)\n",
    "\n",
    "num_dropout_runs = 100\n",
    "batch_size = 50\n",
    "task_idx = 0\n",
    "\n",
    "preact_func = ab.util.get_preact_func(model=model, task_idx=task_idx)\n",
    "print(\"On validation set\")\n",
    "valid_preacts, valid_dropout_preacts = ab.util.obtain_raw_data(\n",
    "    preact_func=preact_func, data=X_valid, num_dropout_runs=num_dropout_runs, batch_size=batch_size)\n",
    "    \n",
    "print(\"On testing set\")\n",
    "test_preacts, test_dropout_preacts = ab.util.obtain_raw_data(\n",
    "    preact_func=preact_func, data=X_test, num_dropout_runs=num_dropout_runs, batch_size=batch_size)"
   ]
  },
  {
   "cell_type": "code",
   "execution_count": 7,
   "metadata": {
    "collapsed": false
   },
   "outputs": [
    {
     "name": "stdout",
     "output_type": "stream",
     "text": [
      "Platt scaling coef: 1.2654751364264774 ; intercept: 0.3391775087713138\n"
     ]
    }
   ],
   "source": [
    "reload(ab)\n",
    "reload(ab.util)\n",
    "reload(ab.calibration)\n",
    "from collections import OrderedDict\n",
    "\n",
    "cb_method_name_to_factory = OrderedDict([\n",
    "    (\"uncalibrated_posterior\", ab.calibration.Expit()),\n",
    "    (\"platt_scaled_posterior\", ab.calibration.PlattScaling()),\n",
    "])\n",
    "\n",
    "    \n",
    "(cb_method_name_to_valid_posterior_prob,\n",
    " cb_method_name_to_test_posterior_prob,\n",
    " transform_name_to_valid_uncert,\n",
    " transform_name_to_test_uncert) = ab.util.obtain_posterior_probs_and_uncert_estimates(\n",
    "                                    cb_method_name_to_factory=cb_method_name_to_factory,\n",
    "                                    valid_labels=y_valid,\n",
    "                                    valid_preacts=valid_preacts,\n",
    "                                    valid_dropout_preacts=valid_dropout_preacts,\n",
    "                                    test_preacts=test_preacts,\n",
    "                                    test_dropout_preacts=test_dropout_preacts)"
   ]
  },
  {
   "cell_type": "code",
   "execution_count": 8,
   "metadata": {
    "collapsed": false
   },
   "outputs": [],
   "source": [
    "%matplotlib inline\n",
    "reload(ab)\n",
    "reload(ab.util)\n",
    "reload(ab.calibration)\n",
    "reload(ab.abstention)\n",
    "from abstention.abstention import AuPrcAbstentionEval, AuRocAbstentionEval\n",
    "from abstention.abstention import (FixedThreshold, OptimalF1, RandomAbstention,\n",
    "                                   NegPosteriorDistanceFromThreshold, Uncertainty,\n",
    "                                   ConvexHybrid, MarginalDeltaAuRoc, MarginalDeltaAuPrc)\n",
    "from collections import OrderedDict\n",
    "from collections import namedtuple\n",
    "\n",
    "AbstentionFuncInfo = namedtuple('AbstentionFuncInfo',\n",
    "                                ('method_name','factory', 'posterior', 'uncert'))\n",
    "\n",
    "abstention_fraction = 0.95\n",
    "evaluation_functions = OrderedDict([('auPRC',AuPrcAbstentionEval(abstention_fraction)),\n",
    "                                    ('auROC',AuRocAbstentionEval(abstention_fraction))])\n",
    "\n",
    "num_positives = np.sum(y_train)+np.sum(y_valid)\n",
    "imbalance = (len(y_train)+len(y_valid)-num_positives)/float(num_positives)\n",
    "\n",
    "abstention_func_infos = [\n",
    "         AbstentionFuncInfo(method_name='random', factory=RandomAbstention(),\n",
    "                            posterior='platt_scaled_posterior', uncert=None),\n",
    "         AbstentionFuncInfo(method_name='calibrated_marginal_auroc',\n",
    "                            factory=MarginalDeltaAuRoc(),\n",
    "                            posterior='platt_scaled_posterior', uncert=None),\n",
    "         AbstentionFuncInfo(method_name='calibrated_marginal_auprc',\n",
    "                            factory=MarginalDeltaAuPrc(),\n",
    "                            posterior='platt_scaled_posterior', uncert=None),\n",
    "         AbstentionFuncInfo(method_name='uncalibrated_prob_distance_point_five',\n",
    "                            factory=NegPosteriorDistanceFromThreshold(FixedThreshold(0.5)),\n",
    "                            posterior='uncalibrated_posterior', uncert=None),\n",
    "         AbstentionFuncInfo(method_name='calibrated_prob_distance_point_five',\n",
    "                            factory=NegPosteriorDistanceFromThreshold(FixedThreshold(0.5)),\n",
    "                            posterior='platt_scaled_posterior', uncert=None),\n",
    "         AbstentionFuncInfo(method_name='preactivation_uncertainty',\n",
    "                            factory=Uncertainty(),\n",
    "                            posterior='uncalibrated_posterior', uncert='preactivation'),\n",
    "         AbstentionFuncInfo(method_name='uncalibrated_posterior_uncertainty',\n",
    "                            factory=Uncertainty(),\n",
    "                            posterior='uncalibrated_posterior', uncert='uncalibrated_posterior'),\n",
    "         AbstentionFuncInfo(method_name='calibrated_posterior_uncertainty',\n",
    "                            factory=Uncertainty(),\n",
    "                            posterior='uncalibrated_posterior', uncert='platt_scaled_posterior')]\n",
    "\n",
    "metric_to_method_name_to_test_perfs = OrderedDict()\n",
    "metric_to_method_name_to_valid_perfs = OrderedDict()\n",
    "for metric_name in evaluation_functions:\n",
    "    method_name_to_test_perfs = OrderedDict([\n",
    "            (abstention_func.method_name, []) for abstention_func in abstention_func_infos])\n",
    "    method_name_to_valid_perfs = OrderedDict([\n",
    "            (abstention_func.method_name, []) for abstention_func in abstention_func_infos])\n",
    "    metric_to_method_name_to_test_perfs[metric_name] = method_name_to_test_perfs\n",
    "    metric_to_method_name_to_valid_perfs[metric_name] = method_name_to_valid_perfs"
   ]
  },
  {
   "cell_type": "code",
   "execution_count": 9,
   "metadata": {
    "collapsed": false
   },
   "outputs": [
    {
     "name": "stdout",
     "output_type": "stream",
     "text": [
      "valid est metric 0.9555875711449394\n",
      "data est metric 0.954362194651254\n",
      "Difference is: -0.0012253764936853706\n",
      "valid est metric 0.9555875711449394\n",
      "data est metric 0.9557433075977577\n",
      "Difference is: 0.00015573645281830029\n",
      "valid est metric 0.9546182070727567\n",
      "data est metric 0.9534657536033662\n",
      "Difference is: -0.0011524534693905242\n",
      "valid est metric 0.9546182070727567\n",
      "data est metric 0.9545317135687087\n",
      "Difference is: -8.649350404799083e-05\n"
     ]
    }
   ],
   "source": [
    "for abstention_func_info in abstention_func_infos:\n",
    "    factory = abstention_func_info.factory\n",
    "    posterior_name = abstention_func_info.posterior\n",
    "    uncert_name = abstention_func_info.uncert   \n",
    "\n",
    "    valid_posterior = cb_method_name_to_valid_posterior_prob[posterior_name]\n",
    "    test_posterior = cb_method_name_to_test_posterior_prob[posterior_name]\n",
    "    valid_uncert = transform_name_to_valid_uncert[uncert_name] if uncert_name else None\n",
    "    test_uncert = transform_name_to_test_uncert[uncert_name] if uncert_name else None\n",
    "    \n",
    "    abstention_func = factory(valid_labels=y_valid,\n",
    "                              valid_posterior=valid_posterior,\n",
    "                              valid_uncert=valid_uncert)\n",
    "    test_abstention_scores = abstention_func(posterior_probs=test_posterior,\n",
    "                                             uncertainties=test_uncert)\n",
    "    valid_abstention_scores = abstention_func(posterior_probs=valid_posterior,\n",
    "                                              uncertainties=valid_uncert)\n",
    "    for evaluation_func_name, evaluation_func in evaluation_functions.items():\n",
    "        valid_perf = evaluation_func(abstention_scores=valid_abstention_scores,\n",
    "                                                            y_true=y_valid, y_score=valid_posterior)\n",
    "        test_perf = evaluation_func(abstention_scores=test_abstention_scores,\n",
    "                                                            y_true=y_test, y_score=test_posterior)\n",
    "        metric_to_method_name_to_test_perfs[evaluation_func_name]\\\n",
    "                                      [abstention_func_info.method_name].append(test_perf)\n",
    "        metric_to_method_name_to_valid_perfs[evaluation_func_name]\\\n",
    "                                      [abstention_func_info.method_name].append(valid_perf)"
   ]
  },
  {
   "cell_type": "code",
   "execution_count": 10,
   "metadata": {
    "collapsed": false
   },
   "outputs": [
    {
     "name": "stdout",
     "output_type": "stream",
     "text": [
      "\n",
      "Best auROC methods - test\n",
      "AuROC ranks:\n",
      "('calibrated_marginal_auroc', 0), average auROC = 0.9603504608822637\n",
      "('calibrated_prob_distance_point_five', 1), average auROC = 0.9603498226551124\n",
      "('calibrated_marginal_auprc', 2), average auROC = 0.960321199894073\n",
      "('calibrated_posterior_uncertainty', 3), average auROC = 0.9602138606446952\n",
      "('uncalibrated_prob_distance_point_five', 4), average auROC = 0.9601101175652056\n",
      "('uncalibrated_posterior_uncertainty', 5), average auROC = 0.9599061214308432\n",
      "('preactivation_uncertainty', 6), average auROC = 0.9567924548291684\n",
      "('random', 7), average auROC = 0.9540346855466172\n",
      "\n",
      "Best auPRC methods - test\n",
      "AuPRC ranks:\n",
      "('calibrated_marginal_auprc', 0), average auPRC = 0.9574095902200023\n",
      "('calibrated_marginal_auroc', 1), average auPRC = 0.9573449188548278\n",
      "('calibrated_prob_distance_point_five', 2), average auPRC = 0.957339472109674\n",
      "('calibrated_posterior_uncertainty', 3), average auPRC = 0.957237552425522\n",
      "('uncalibrated_prob_distance_point_five', 4), average auPRC = 0.9568644428173223\n",
      "('uncalibrated_posterior_uncertainty', 5), average auPRC = 0.9567266823556552\n",
      "('preactivation_uncertainty', 6), average auPRC = 0.9543048757330347\n",
      "('random', 7), average auPRC = 0.951318398922604\n"
     ]
    }
   ],
   "source": [
    "from collections import defaultdict\n",
    "\n",
    "print(\"\\nBest auROC methods - test\")\n",
    "metric_to_auroc_test_score = defaultdict(lambda: 0)\n",
    "metric_name_ranks = sorted(metric_to_method_name_to_test_perfs['auROC'].keys(),\n",
    "                           key=lambda x: -metric_to_method_name_to_test_perfs['auROC'][x][0])\n",
    "for idx, name in enumerate(metric_name_ranks):\n",
    "        metric_to_auroc_test_score[name] += idx\n",
    "print(\"AuROC ranks:\")\n",
    "print(\"\\n\".join(str(x)\n",
    "                +\", average auROC = \"\n",
    "                +str(np.mean(metric_to_method_name_to_test_perfs['auROC'][x[0]]))\n",
    "                for x in sorted(metric_to_auroc_test_score.items(), key=lambda x: x[1])))\n",
    "\n",
    "print(\"\\nBest auPRC methods - test\")\n",
    "metric_to_auprc_test_score = defaultdict(lambda: 0)\n",
    "metric_name_ranks = sorted(metric_to_method_name_to_test_perfs['auPRC'].keys(),\n",
    "                           key=lambda x: -metric_to_method_name_to_test_perfs['auPRC'][x][0])\n",
    "for idx, name in enumerate(metric_name_ranks):\n",
    "        metric_to_auprc_test_score[name] += idx\n",
    "print(\"AuPRC ranks:\")\n",
    "print(\"\\n\".join(str(x)\n",
    "                +\", average auPRC = \"\n",
    "                +str(np.mean(metric_to_method_name_to_test_perfs['auPRC'][x[0]]))\n",
    "                for x in sorted(metric_to_auprc_test_score.items(), key=lambda x: x[1])))"
   ]
  }
 ],
 "metadata": {
  "anaconda-cloud": {},
  "kernelspec": {
   "display_name": "Python [default]",
   "language": "python",
   "name": "python2"
  },
  "language_info": {
   "codemirror_mode": {
    "name": "ipython",
    "version": 2
   },
   "file_extension": ".py",
   "mimetype": "text/x-python",
   "name": "python",
   "nbconvert_exporter": "python",
   "pygments_lexer": "ipython2",
   "version": "2.7.12"
  }
 },
 "nbformat": 4,
 "nbformat_minor": 1
}
